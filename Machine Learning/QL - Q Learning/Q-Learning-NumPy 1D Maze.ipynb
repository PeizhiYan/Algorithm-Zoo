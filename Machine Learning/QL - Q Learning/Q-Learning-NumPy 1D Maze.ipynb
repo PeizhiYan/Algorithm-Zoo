{
 "cells": [
  {
   "cell_type": "code",
   "execution_count": 1,
   "metadata": {},
   "outputs": [],
   "source": [
    "import numpy as np\n",
    "import pandas as pd\n",
    "import time\n",
    "from IPython.display import clear_output as cls"
   ]
  },
  {
   "cell_type": "markdown",
   "metadata": {},
   "source": [
    "\n",
    "This demo program uses a simple example (a 1-D world):\n",
    "\n",
    "S--------O\n",
    "\n",
    "where 'S' is start position; 'O' is the treasure.\n"
   ]
  },
  {
   "cell_type": "code",
   "execution_count": 2,
   "metadata": {},
   "outputs": [],
   "source": [
    "# initialize simulation parameters\n",
    "N_STATES = 6                # the length of the 1-D world\n",
    "ACTIONS = ['left', 'right'] # available actions\n",
    "EPSILON = 0.9               # e-greedy policy\n",
    "ALPHA = 0.1                 # learning rate\n",
    "GAMMA = 0.9                 # discount factor\n",
    "MAX_EPISODES = 20           # maximum episodes\n",
    "FRESH_TIME = 0.01            # fresh time for each move"
   ]
  },
  {
   "cell_type": "code",
   "execution_count": 3,
   "metadata": {},
   "outputs": [
    {
     "data": {
      "text/html": [
       "<div>\n",
       "<style scoped>\n",
       "    .dataframe tbody tr th:only-of-type {\n",
       "        vertical-align: middle;\n",
       "    }\n",
       "\n",
       "    .dataframe tbody tr th {\n",
       "        vertical-align: top;\n",
       "    }\n",
       "\n",
       "    .dataframe thead th {\n",
       "        text-align: right;\n",
       "    }\n",
       "</style>\n",
       "<table border=\"1\" class=\"dataframe\">\n",
       "  <thead>\n",
       "    <tr style=\"text-align: right;\">\n",
       "      <th></th>\n",
       "      <th>left</th>\n",
       "      <th>right</th>\n",
       "    </tr>\n",
       "  </thead>\n",
       "  <tbody>\n",
       "    <tr>\n",
       "      <th>0</th>\n",
       "      <td>0.0</td>\n",
       "      <td>0.0</td>\n",
       "    </tr>\n",
       "    <tr>\n",
       "      <th>1</th>\n",
       "      <td>0.0</td>\n",
       "      <td>0.0</td>\n",
       "    </tr>\n",
       "    <tr>\n",
       "      <th>2</th>\n",
       "      <td>0.0</td>\n",
       "      <td>0.0</td>\n",
       "    </tr>\n",
       "    <tr>\n",
       "      <th>3</th>\n",
       "      <td>0.0</td>\n",
       "      <td>0.0</td>\n",
       "    </tr>\n",
       "    <tr>\n",
       "      <th>4</th>\n",
       "      <td>0.0</td>\n",
       "      <td>0.0</td>\n",
       "    </tr>\n",
       "    <tr>\n",
       "      <th>5</th>\n",
       "      <td>0.0</td>\n",
       "      <td>0.0</td>\n",
       "    </tr>\n",
       "  </tbody>\n",
       "</table>\n",
       "</div>"
      ],
      "text/plain": [
       "   left  right\n",
       "0   0.0    0.0\n",
       "1   0.0    0.0\n",
       "2   0.0    0.0\n",
       "3   0.0    0.0\n",
       "4   0.0    0.0\n",
       "5   0.0    0.0"
      ]
     },
     "execution_count": 3,
     "metadata": {},
     "output_type": "execute_result"
    }
   ],
   "source": [
    "def build_Q_table(n_states, actions):\n",
    "    table = pd.DataFrame(\n",
    "        np.zeros((n_states, len(actions))), # Q-table initial values\n",
    "        columns=actions,                    # actions' name\n",
    "        \n",
    "    )\n",
    "    #print(table) # display the Q-table\n",
    "    return table\n",
    "\n",
    "build_Q_table(N_STATES, ACTIONS)"
   ]
  },
  {
   "cell_type": "code",
   "execution_count": 4,
   "metadata": {},
   "outputs": [],
   "source": [
    "def choose_action(state, Q_table):\n",
    "    state_actions = Q_table.iloc[state, :]\n",
    "    if(np.random.uniform() > EPSILON or state_actions.all() == 0):\n",
    "        action_name = np.random.choice(ACTIONS)\n",
    "    else: # act greedy\n",
    "        action_name = state_actions.argmax()\n",
    "    return action_name"
   ]
  },
  {
   "cell_type": "code",
   "execution_count": 5,
   "metadata": {},
   "outputs": [],
   "source": [
    "def get_env_feedback(S, A):\n",
    "    \"\"\"interact with the environment\"\"\"\n",
    "    if A == 'right': # move right\n",
    "        if S == N_STATES - 2: # terminate\n",
    "            S_ = 'terminal'\n",
    "            R = 1\n",
    "        else:\n",
    "            S_ = S + 1\n",
    "            R = 0\n",
    "    else: # move left\n",
    "        R = 0\n",
    "        if S == 0:\n",
    "            S_ = S # reach the wall, cannot move left any futher\n",
    "        else:\n",
    "            S_ = S - 1\n",
    "    return S_, R # new state and reward"
   ]
  },
  {
   "cell_type": "code",
   "execution_count": 6,
   "metadata": {},
   "outputs": [
    {
     "name": "stdout",
     "output_type": "stream",
     "text": [
      "          🐰\n"
     ]
    }
   ],
   "source": [
    "def display_env(S):\n",
    "    buffer = ['  ' for i in range(N_STATES-1)]\n",
    "    buffer.append('🥑')\n",
    "    if S == 'terminal':\n",
    "        buffer[-1] = '🤞'\n",
    "    else:\n",
    "        buffer[S] = '🐰'\n",
    "    cls()\n",
    "    for i in range(len(buffer)):\n",
    "        print(buffer[i], end='')\n",
    "    print()\n",
    "\n",
    "for i in range(N_STATES): \n",
    "    display_env(i)\n",
    "    time.sleep(1)"
   ]
  },
  {
   "cell_type": "code",
   "execution_count": 7,
   "metadata": {},
   "outputs": [],
   "source": [
    "def rl():\n",
    "    Q_table = build_Q_table(N_STATES, ACTIONS)\n",
    "    for episode in range(MAX_EPISODES):\n",
    "        S = 0\n",
    "        is_terminated = False\n",
    "        display_env(S)\n",
    "        while not is_terminated:\n",
    "            A = choose_action(S, Q_table)\n",
    "            next_S, R = get_env_feedback(S, A)\n",
    "            pred_Q = Q_table.loc[S,A]\n",
    "            if next_S != 'terminal':\n",
    "                targ_Q = R + GAMMA*Q_table.iloc[next_S, :].max() \n",
    "            else: # next state is terminal\n",
    "                targ_Q = R \n",
    "                is_terminated = True\n",
    "            Q_table.loc[S,A] += ALPHA*(targ_Q - pred_Q) # update Q table\n",
    "            S = next_S\n",
    "            display_env(S)\n",
    "            print(Q_table)\n",
    "            time.sleep(FRESH_TIME)\n",
    "    return Q_table"
   ]
  },
  {
   "cell_type": "code",
   "execution_count": 8,
   "metadata": {},
   "outputs": [
    {
     "name": "stdout",
     "output_type": "stream",
     "text": [
      "          🤞\n",
      "           left     right\n",
      "0  1.121931e-06  0.038931\n",
      "1  5.904900e-07  0.122046\n",
      "2  9.767361e-05  0.298117\n",
      "3  1.430240e-02  0.571415\n",
      "4  4.818853e-02  0.878423\n",
      "5  0.000000e+00  0.000000\n"
     ]
    }
   ],
   "source": [
    "learned_Q_table = rl()"
   ]
  },
  {
   "cell_type": "code",
   "execution_count": null,
   "metadata": {},
   "outputs": [],
   "source": []
  }
 ],
 "metadata": {
  "kernelspec": {
   "display_name": "Python 3",
   "language": "python",
   "name": "python3"
  },
  "language_info": {
   "codemirror_mode": {
    "name": "ipython",
    "version": 3
   },
   "file_extension": ".py",
   "mimetype": "text/x-python",
   "name": "python",
   "nbconvert_exporter": "python",
   "pygments_lexer": "ipython3",
   "version": "3.5.3"
  }
 },
 "nbformat": 4,
 "nbformat_minor": 2
}
