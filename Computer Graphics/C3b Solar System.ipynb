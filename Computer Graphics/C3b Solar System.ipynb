{
 "cells": [
  {
   "cell_type": "code",
   "execution_count": 1,
   "metadata": {},
   "outputs": [
    {
     "name": "stderr",
     "output_type": "stream",
     "text": [
      "c:\\users\\yanpe\\appdata\\local\\programs\\python\\python36\\lib\\site-packages\\numpy\\core\\__init__.py:29: UserWarning: loaded more than 1 DLL from .libs:\n",
      "c:\\users\\yanpe\\appdata\\local\\programs\\python\\python36\\lib\\site-packages\\numpy\\.libs\\libopenblas.TXA6YQSD3GCQQC22GEQ54J2UDCXDXHWN.gfortran-win_amd64.dll\n",
      "c:\\users\\yanpe\\appdata\\local\\programs\\python\\python36\\lib\\site-packages\\numpy\\.libs\\libopenblas.WCDJNK7YVMPZQ2ME2ZZHJJRJ3JIKNDB7.gfortran-win_amd64.dll\n",
      "  stacklevel=1)\n"
     ]
    }
   ],
   "source": [
    "import matplotlib.pyplot as plt\n",
    "import numpy as np\n",
    "\n",
    "from tqdm import tqdm\n",
    "from IPython import display\n",
    "\n"
   ]
  },
  {
   "cell_type": "code",
   "execution_count": 2,
   "metadata": {},
   "outputs": [],
   "source": [
    "def length(vector):\n",
    "    \"\"\"compute vector length\"\"\"\n",
    "    return np.linalg.norm(vector)"
   ]
  },
  {
   "cell_type": "code",
   "execution_count": 3,
   "metadata": {},
   "outputs": [],
   "source": [
    "class Light:\n",
    "    \"\"\"light class\"\"\"\n",
    "    \n",
    "    def __init__(self, light_type, intensity, position=None, direction=None):\n",
    "        self.type = light_type # 'ambient', 'point', 'directional'\n",
    "        self.intensity = np.array(intensity)\n",
    "        self.position = np.array(position)     # when light type is 'point'\n",
    "        self.direction = np.array(direction)   # when light type is 'directional'\n",
    "\n",
    "class Lighting:\n",
    "    \"\"\"lighting system class\"\"\"\n",
    "    \n",
    "    def __init__(self):\n",
    "        self.lights = []\n",
    "        \n",
    "    def AddLight(self, light_type, intensity, position=None, direction=None):\n",
    "        light = Light(light_type, intensity, position, direction)\n",
    "        self.lights.append(light)\n",
    "        \n",
    "    def ComputeLighting(self, P, N, V, s):\n",
    "        \"\"\"\n",
    "        P: point on sphere\n",
    "        N: normal at P\n",
    "        V: viewing direction\n",
    "        s: specular rate\n",
    "        \"\"\"\n",
    "        \n",
    "        intensity = np.array([0.0,0.0,0.0])\n",
    "        for light in self.lights:\n",
    "            if light.type == 'ambient':\n",
    "                intensity += light.intensity\n",
    "            else:\n",
    "                if light.type == 'point':\n",
    "                    L = light.position - P\n",
    "                else:\n",
    "                    L = light.direction\n",
    "                \n",
    "                # Diffuse\n",
    "                N_dot_L = np.dot(N, L)\n",
    "                if N_dot_L > 0:\n",
    "                    intensity += light.intensity * N_dot_L / (length(N) * length(L))\n",
    "\n",
    "                # Specular\n",
    "                if s != 0:\n",
    "                    R = 2 * N * np.dot(N, L) - L\n",
    "                    R_dot_V = np.dot(R, V)\n",
    "                    if R_dot_V > 0:\n",
    "                        # cos(a)^s, the larger the s, the sinney it appears\n",
    "                        intensity += light.intensity * ((R_dot_V / (length(R) * length(V)))**s)\n",
    "                    \n",
    "        return intensity\n",
    "        "
   ]
  },
  {
   "cell_type": "code",
   "execution_count": 4,
   "metadata": {},
   "outputs": [],
   "source": [
    "class Sphere:\n",
    "    \"\"\"3D sphere class\"\"\"\n",
    "    \n",
    "    def __init__(self, center=(0.0,0.0,0.0), radius=1.0, color=(0.0,0.0,0.0), specular=0):\n",
    "        self.center = np.array(center)\n",
    "        self.radius = radius\n",
    "        self.color = np.array(color, np.float32)\n",
    "        self.specular = specular # 0 for matte\n",
    "\n",
    "class SpheresScene:\n",
    "    \"\"\"\n",
    "    a simple scene with only 3D spheres\n",
    "    \"\"\"\n",
    "    \n",
    "    def __init__(self):\n",
    "        self.spheres = [] # a list of spheres\n",
    "        \n",
    "    def AddSphere(self, center=(0.0,0.0,0.0), radius=1.0, color=(0.0,0.0,0.0), specular=0):\n",
    "        \"\"\"add a sphere to the scene\"\"\"\n",
    "        sphere = Sphere(center, radius, color, specular)\n",
    "        self.spheres.append(sphere)\n",
    "        \n",
    "    def IntersectRaySphere(self, sphere, O, D):\n",
    "        \"\"\"\n",
    "        assume P is the point on the sphere\n",
    "        < , > is the dot production\n",
    "        -----------------------------------\n",
    "        1) <P - C, P - C> = r^2 # sphere function\n",
    "        2) P = O + tD           # assume P is on the ray\n",
    "        \n",
    "        plug 2) to 1):\n",
    "        <O + tD - C, O + tD - C> = r^2\n",
    "        \n",
    "        because CO = O - C, rewrite the above equation as:\n",
    "                          <CO + tD, CO + tD> = r^2\n",
    "        =>   <CO, CO> + 2<CO, tD> + <tD, tD> = r^2\n",
    "        =>   <CO, CO> + 2t<CO, D> + tt<D, D> = r^2\n",
    "        \n",
    "        now, we can solve for t\n",
    "        \"\"\"\n",
    "        \n",
    "        r = sphere.radius\n",
    "        O = np.array(O) # origin of the ray\n",
    "        D = np.array(D) # direction of the ray\n",
    "        C = sphere.center # center of the sphere\n",
    "        CO = O - C\n",
    "        \n",
    "        a = np.dot(D, D)\n",
    "        b = 2*np.dot(CO, D)\n",
    "        c = np.dot(CO, CO) - r**2\n",
    "        \n",
    "        discriminant = b**2 - 4*a*c\n",
    "        if discriminant < 0:\n",
    "            return float('inf'), float('inf') # no solution\n",
    "        \n",
    "        t1 = (-b + np.sqrt(discriminant)) / (2*a)\n",
    "        t2 = (-b - np.sqrt(discriminant)) / (2*a)\n",
    "\n",
    "        return t1, t2\n",
    "        \n",
    "    def TraceRay(self, O, D, t_max, lighting):\n",
    "        \"\"\"\n",
    "        O: the origin of the ray\n",
    "        D: the direction (a unit vector) of the ray\n",
    "        t_min and t_max define the ray tracing range\n",
    "        --------------\n",
    "        P = O + t * D\n",
    "        \"\"\"\n",
    "        closest_t = float('inf')\n",
    "        closest_sphere = None\n",
    "        for sphere in self.spheres:\n",
    "            t1, t2 = self.IntersectRaySphere(sphere, O, D)\n",
    "            if t1 < t_max and t1 < closest_t and t1 > 0:\n",
    "                closest_t = t1\n",
    "                closest_sphere = sphere\n",
    "            if t2 < t_max and t2 < closest_t and t2 > 0:\n",
    "                closest_t = t2\n",
    "                closest_sphere = sphere\n",
    "        if closest_sphere is None:\n",
    "            return np.array((0.0,0.0,0.0)) # black color\n",
    "        \n",
    "        # add lighting\n",
    "        P = O + closest_t * D # compute intersection point\n",
    "        N = P - closest_sphere.center # compute sphere normal at intersection point\n",
    "        N = N / length(N) # unit normal vector\n",
    "        return closest_sphere.color * lighting.ComputeLighting(P, N, -D, closest_sphere.specular)\n",
    "        \n",
    "    \n",
    "            "
   ]
  },
  {
   "cell_type": "code",
   "execution_count": 5,
   "metadata": {},
   "outputs": [],
   "source": [
    "class Camera:\n",
    "    \"\"\"camera class\"\"\"\n",
    "    \n",
    "    def __init__(self, center = (0.0,0.0,0.0), \n",
    "                 width = 256, height = 256,\n",
    "                 p_width = 256, p_height = 256, d=1, t_max=100):\n",
    "        self.center = center     # camera center\n",
    "        self.width = width       # width of the canvas\n",
    "        self.height = height     # height of the canvas\n",
    "        self.p_width = p_width   # project plane width\n",
    "        self.p_height = p_height # project plane height\n",
    "        self.d = d  # d is the distance between the camera to the projection plane\n",
    "        self.t_min = 0\n",
    "        self.t_max = t_max # ray tracing maximum range\n",
    "        self.center_x = self.width // 2\n",
    "        self.center_y = self.height // 2\n",
    "        self.buffer = np.zeros((self.height, self.width, 3), dtype=np.uint8) # 8-bit depth\n",
    "        \n",
    "    def Clear(self):\n",
    "        \"\"\"clear the display buffer\"\"\"\n",
    "        self.buffer = np.zeros((self.height, self.width, 3), dtype=np.uint8)\n",
    "    \n",
    "    def PutPixel(self, x, y, color):\n",
    "        \"\"\"\n",
    "        set the pixel color of (x,y)\n",
    "        Note that: the center of canvas is the origin of coordinate system\n",
    "        \"\"\"\n",
    "        # convert to the array coordinate system\n",
    "        x_ = self.center_x + x\n",
    "        y_ = self.center_y - y\n",
    "        \n",
    "        # convert floating-point color to integer if needed\n",
    "        if type(color[0]) is float or type(color[0]) is np.float32 or type(color[0]) is np.float64:\n",
    "            color = np.array(color).clip(0, 1.0)\n",
    "            color = np.array(color * 255, dtype=np.uint8)\n",
    "        else:\n",
    "            color = np.array(color, dtype=np.uint8).clip(0, 255)\n",
    "        \n",
    "        # set the pixel color\n",
    "        if x_ >= 0 and x_ < self.width and y_ >= 0 and y_ < self.height:\n",
    "            self.buffer[y_, x_] = color\n",
    "\n",
    "    def ArrayToCanvas(self, x_, y_):\n",
    "        \"\"\"convert column and row indices (x_, y_) to (x,y) on canvas\"\"\"\n",
    "        x = x_ - self.center_x\n",
    "        y = self.center_y - y_\n",
    "        return x, y\n",
    "            \n",
    "    def CanvasToViewport(self, x, y):\n",
    "        \"\"\"\n",
    "        determine which square on the viewport (the projection plane)\n",
    "        corresponds to this pixel.\n",
    "        in other words,\n",
    "        for each pixel (x,y) on the canvas, we can determine its\n",
    "        corresponding point on the viewport (Vx, Vy, d)\n",
    "        \"\"\"\n",
    "        return np.array((x*self.p_width/self.width, \n",
    "                        y*self.p_height/self.height, \n",
    "                        self.d))\n",
    "\n",
    "    def RayTracing(self, lighting, scene, show_progress=True):\n",
    "        \"\"\"compute the color for each pixel by tracing the ray\"\"\"\n",
    "        \n",
    "        O = np.array(self.center)\n",
    "        \n",
    "        self.Clear() # clear the display buffer\n",
    "        plt.figure(figsize=(5,5))    \n",
    "        \n",
    "        # scan all pixels on canvas\n",
    "        for y_ in tqdm(range(0, self.height)):\n",
    "            for x_ in range(0, self.width):\n",
    "                x, y = self.ArrayToCanvas(x_, y_)\n",
    "                D = self.CanvasToViewport(x, y)\n",
    "                color = scene.TraceRay(O, D, self.t_max, lighting)\n",
    "                self.PutPixel(x, y, color)\n",
    "            if show_progress and y_ % (self.width // 10) == 0:\n",
    "                plt.clf()\n",
    "                display.clear_output(wait=True)\n",
    "                plt.imshow(self.buffer)\n",
    "                display.display(plt.gcf())\n",
    "        \n",
    "        plt.clf()\n",
    "        \n",
    "        return self.buffer\n",
    "    "
   ]
  },
  {
   "cell_type": "markdown",
   "metadata": {},
   "source": [
    "## Render the Solar System with Ray Tracing"
   ]
  },
  {
   "cell_type": "code",
   "execution_count": 10,
   "metadata": {},
   "outputs": [
    {
     "data": {
      "image/png": "[encoded data removed]",
      "text/plain": [
       "<Figure size 360x360 with 1 Axes>"
      ]
     },
     "metadata": {},
     "output_type": "display_data"
    },
    {
     "name": "stderr",
     "output_type": "stream",
     "text": [
      "100%|██████████████████████████████████████████████████████████████████████████████| 2160/2160 [05:09<00:00,  6.99it/s]\n"
     ]
    },
    {
     "data": {
      "text/plain": [
       "<matplotlib.image.AxesImage at 0x1ce39735eb8>"
      ]
     },
     "execution_count": 10,
     "metadata": {},
     "output_type": "execute_result"
    },
    {
     "data": {
      "text/plain": [
       "<Figure size 360x360 with 0 Axes>"
      ]
     },
     "metadata": {},
     "output_type": "display_data"
    },
    {
     "data": {
      "image/png": "[encoded data removed]",
      "text/plain": [
       "<Figure size 720x720 with 1 Axes>"
      ]
     },
     "metadata": {
      "needs_background": "light"
     },
     "output_type": "display_data"
    },
    {
     "data": {
      "text/plain": [
       "<Figure size 360x360 with 0 Axes>"
      ]
     },
     "metadata": {},
     "output_type": "display_data"
    },
    {
     "data": {
      "image/png": "[encoded data removed]",
      "text/plain": [
       "<Figure size 720x720 with 1 Axes>"
      ]
     },
     "metadata": {
      "needs_background": "light"
     },
     "output_type": "display_data"
    }
   ],
   "source": [
    "# create a camera\n",
    "W = 3840 #// 20\n",
    "H = 2160 #// 20\n",
    "camera = Camera(center=(1.0,0.0,0.0), width=W, height=H, \n",
    "                p_width=W/H, p_height=1, d=1, t_max=9999)\n",
    "#\"\"\"\n",
    "# add lights to the lighting system\n",
    "lighting = Lighting()\n",
    "lighting.AddLight('ambient', intensity = [0.7,0.7,0.7], position=None, direction=None)\n",
    "lighting.AddLight('point', intensity = [1,0.3,0.3], position=(-0.3,0,7.5), direction=None)\n",
    "lighting.AddLight('point', intensity = [1,0.3,0.3], position=(-5.3,0,7.5), direction=None)\n",
    "lighting.AddLight('point', intensity = [1,0.3,0.3], position=(-5.3,0,-7.5), direction=None)\n",
    "\n",
    "\n",
    "# add planets to the scene\n",
    "sphere_scene = SpheresScene()\n",
    "sphere_scene.AddSphere(center=(-2.5,0,7.5), radius=1.2, color=(255/255, 194/255, 89/255), specular=99 )\n",
    "\n",
    "# add random stars to the scene\n",
    "for i in range(50):\n",
    "    center = [(np.random.rand(1)[0]-0.4)*11, (np.random.rand(1)[0]-0.5)*6, 7.5]\n",
    "    radius = (np.random.rand(1)[0] + 1)/2\n",
    "    radius *= 0.015\n",
    "    color=(np.random.rand(1)[0]/1.5, 0.5, np.random.rand(1)[0]/1.6)\n",
    "    sphere_scene.AddSphere(center, radius, color, 1)\n",
    "\n",
    "# render the sun first\n",
    "img_solar = camera.RayTracing(lighting, sphere_scene)\n",
    "\n",
    "plt.figure(figsize=(10,10))\n",
    "plt.imshow(img_solar)\n",
    "#\"\"\"\n",
    "\n",
    "# add lights to the lighting system\n",
    "lighting = Lighting()\n",
    "lighting.AddLight('ambient', intensity = [0.2,0.1,0.1], position=None, direction=None)\n",
    "lighting.AddLight('point', intensity = [1.0,1.0,1.0], position=(-2.5,0,4.5), direction=None) # the sun light\n",
    "\n",
    "\n",
    "# add planets to the scene\n",
    "sphere_scene = SpheresScene()\n",
    "sphere_scene.AddSphere(center=(-0.8,0,8.5), radius=0.1, color=(158/255, 155/255, 149/255), specular=11 ) # Mercury\n",
    "sphere_scene.AddSphere(center=(-0.3,0,7.5), radius=0.2, color=(153/255, 81/255, 5/255), specular=11 ) # Venus\n",
    "sphere_scene.AddSphere(center=(0.3,0,7.8), radius=0.25, color=(0/255, 131/255, 163/255), specular=11 ) # Earth\n",
    "sphere_scene.AddSphere(center=(0.76,0,7.1), radius=0.2, color=(148/255, 116/255, 62/255), specular=11 ) # Mars\n",
    "sphere_scene.AddSphere(center=(2.5,0,7.3), radius=0.55, color=(219/255, 173/255, 143/255), specular=11 ) # Jupiter\n",
    "sphere_scene.AddSphere(center=(3.8,0,7.6), radius=0.50, color=(161/255, 160/255, 119/255), specular=11 ) # Saturn\n",
    "sphere_scene.AddSphere(center=(4.8,0,6.5), radius=0.30, color=(171/255, 207/255, 200/255), specular=11 ) # Urnaus\n",
    "sphere_scene.AddSphere(center=(5.8,0,9.5), radius=0.32, color=(9/255, 90/255, 128/255), specular=11 ) # Neptune\n",
    "\n",
    "\n",
    "\n",
    "# render the sun first\n",
    "img = camera.RayTracing(lighting, sphere_scene) + img_solar\n",
    "\n",
    "plt.figure(figsize=(10,10))\n",
    "plt.imshow(img)\n",
    "\n",
    "\n",
    "\n",
    "\n"
   ]
  },
  {
   "cell_type": "code",
   "execution_count": 11,
   "metadata": {},
   "outputs": [
    {
     "data": {
      "text/plain": [
       "True"
      ]
     },
     "execution_count": 11,
     "metadata": {},
     "output_type": "execute_result"
    }
   ],
   "source": [
    "import cv2\n",
    "\n",
    "img_ = cv2.cvtColor(img, cv2.COLOR_BGR2RGB)\n",
    "cv2.imwrite('./4k_rendered2.jpg', img_)"
   ]
  },
  {
   "cell_type": "code",
   "execution_count": null,
   "metadata": {},
   "outputs": [],
   "source": []
  },
  {
   "cell_type": "code",
   "execution_count": null,
   "metadata": {},
   "outputs": [],
   "source": []
  },
  {
   "cell_type": "code",
   "execution_count": null,
   "metadata": {},
   "outputs": [],
   "source": []
  },
  {
   "cell_type": "code",
   "execution_count": null,
   "metadata": {},
   "outputs": [],
   "source": []
  },
  {
   "cell_type": "code",
   "execution_count": null,
   "metadata": {},
   "outputs": [],
   "source": []
  },
  {
   "cell_type": "code",
   "execution_count": null,
   "metadata": {},
   "outputs": [],
   "source": []
  },
  {
   "cell_type": "code",
   "execution_count": null,
   "metadata": {},
   "outputs": [],
   "source": []
  },
  {
   "cell_type": "code",
   "execution_count": null,
   "metadata": {},
   "outputs": [],
   "source": []
  },
  {
   "cell_type": "code",
   "execution_count": null,
   "metadata": {},
   "outputs": [],
   "source": []
  },
  {
   "cell_type": "code",
   "execution_count": null,
   "metadata": {},
   "outputs": [],
   "source": []
  },
  {
   "cell_type": "code",
   "execution_count": null,
   "metadata": {},
   "outputs": [],
   "source": []
  },
  {
   "cell_type": "code",
   "execution_count": null,
   "metadata": {},
   "outputs": [],
   "source": []
  },
  {
   "cell_type": "code",
   "execution_count": null,
   "metadata": {},
   "outputs": [],
   "source": []
  },
  {
   "cell_type": "code",
   "execution_count": null,
   "metadata": {},
   "outputs": [],
   "source": []
  },
  {
   "cell_type": "code",
   "execution_count": null,
   "metadata": {},
   "outputs": [],
   "source": []
  },
  {
   "cell_type": "code",
   "execution_count": null,
   "metadata": {},
   "outputs": [],
   "source": []
  }
 ],
 "metadata": {
  "kernelspec": {
   "display_name": "Python 3",
   "language": "python",
   "name": "python3"
  },
  "language_info": {
   "codemirror_mode": {
    "name": "ipython",
    "version": 3
   },
   "file_extension": ".py",
   "mimetype": "text/x-python",
   "name": "python",
   "nbconvert_exporter": "python",
   "pygments_lexer": "ipython3",
   "version": "3.6.7rc1"
  }
 },
 "nbformat": 4,
 "nbformat_minor": 4
}
