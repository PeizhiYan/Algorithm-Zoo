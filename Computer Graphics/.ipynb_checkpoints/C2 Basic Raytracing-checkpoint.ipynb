{
 "cells": [
  {
   "cell_type": "code",
   "execution_count": 2,
   "metadata": {},
   "outputs": [],
   "source": [
    "import matplotlib.pyplot as plt\n",
    "import numpy as np\n",
    "\n"
   ]
  },
  {
   "cell_type": "code",
   "execution_count": 3,
   "metadata": {},
   "outputs": [],
   "source": [
    "class Sphere:\n",
    "    \"\"\"3D sphere class\"\"\"\n",
    "    \n",
    "    def __init__(self, center=(0.0,0.0,0.0), radius=1.0, color=(0.0,0.0,0.0)):\n",
    "        self.center = np.array(center)\n",
    "        self.radius = radius\n",
    "        self.color = np.array(color, np.float32)\n",
    "\n",
    "class SpheresScene:\n",
    "    \"\"\"\n",
    "    a simple scene with only 3D spheres\n",
    "    \"\"\"\n",
    "    \n",
    "    def __init__(self):\n",
    "        self.spheres = [] # a list of spheres\n",
    "        \n",
    "    def AddSphere(self, center=(0.0,0.0,0.0), radius=1.0, color=(0.0,0.0,0.0)):\n",
    "        \"\"\"add a sphere to the scene\"\"\"\n",
    "        sphere = Sphere(center, radius, color)\n",
    "        self.spheres.append(sphere)\n",
    "        \n",
    "    def IntersectRaySphere(self, sphere, O, D):\n",
    "        \"\"\"\n",
    "        assume P is the point on the sphere\n",
    "        < , > is the dot production\n",
    "        -----------------------------------\n",
    "        1) <P - C, P - C> = r^2 # sphere function\n",
    "        2) P = O + tD           # assume P is on the ray\n",
    "        \n",
    "        plug 2) to 1):\n",
    "        <O + tD - C, O + tD - C> = r^2\n",
    "        \n",
    "        because CO = O - C, rewrite the above equation as:\n",
    "                          <CO + tD, CO + tD> = r^2\n",
    "        =>   <CO, CO> + 2<CO, tD> + <tD, tD> = r^2\n",
    "        =>   <CO, CO> + 2t<CO, D> + tt<D, D> = r^2\n",
    "        \n",
    "        now, we can solve for t\n",
    "        \"\"\"\n",
    "        \n",
    "        r = sphere.radius\n",
    "        O = np.array(O) # origin of the ray\n",
    "        D = np.array(D) # direction of the ray\n",
    "        C = sphere.center # center of the sphere\n",
    "        CO = O - C\n",
    "        \n",
    "        a = np.dot(D, D)\n",
    "        b = 2*np.dot(CO, D)\n",
    "        c = np.dot(CO, CO) - r**2\n",
    "        \n",
    "        discriminant = b**2 - 4*a*c\n",
    "        if discriminant < 0:\n",
    "            return float('inf'), float('inf') # no solution\n",
    "        \n",
    "        t1 = (-b + np.sqrt(discriminant)) / (2*a)\n",
    "        t2 = (-b - np.sqrt(discriminant)) / (2*a)\n",
    "\n",
    "        return t1, t2\n",
    "        \n",
    "    def TraceRay(self, O, D, t_max):\n",
    "        \"\"\"\n",
    "        O: the origin of the ray\n",
    "        D: the direction (a unit vector) of the ray\n",
    "        t_min and t_max define the ray tracing range\n",
    "        --------------\n",
    "        P = O + t * D\n",
    "        \"\"\"\n",
    "        closest_t = float('inf')\n",
    "        closest_sphere = None\n",
    "        for sphere in self.spheres:\n",
    "            t1, t2 = self.IntersectRaySphere(sphere, O, D)\n",
    "            if t1 < t_max and t1 < closest_t and t1 > 0:\n",
    "                closest_t = t1\n",
    "                closest_sphere = sphere\n",
    "            if t2 < t_max and t2 < closest_t and t2 > 0:\n",
    "                closest_t = t2\n",
    "                closest_sphere = sphere\n",
    "        if closest_sphere is None:\n",
    "            return np.array((0.0,0.0,0.0)) # black color\n",
    "        return np.array(closest_sphere.color)\n",
    "    \n",
    "    \n",
    "            "
   ]
  },
  {
   "cell_type": "code",
   "execution_count": 4,
   "metadata": {},
   "outputs": [],
   "source": [
    "class Camera:\n",
    "    \"\"\"camera class\"\"\"\n",
    "    \n",
    "    def __init__(self, center = (0.0,0.0,0.0), \n",
    "                 width = 256, height = 256,\n",
    "                 p_width = 256, p_height = 256, d=1, t_max=100):\n",
    "        self.center = center     # camera center\n",
    "        self.width = width       # width of the canvas\n",
    "        self.height = height     # height of the canvas\n",
    "        self.p_width = p_width   # project plane width\n",
    "        self.p_height = p_height # project plane height\n",
    "        self.d = d  # d is the distance between the camera to the projection plane\n",
    "        self.t_min = 0\n",
    "        self.t_max = t_max # ray tracing maximum range\n",
    "        self.center_x = self.width // 2\n",
    "        self.center_y = self.height // 2\n",
    "        self.buffer = np.zeros((self.height, self.width, 3), dtype=np.uint8) # 8-bit depth\n",
    "        \n",
    "    def Clear(self):\n",
    "        \"\"\"clear the display buffer\"\"\"\n",
    "        self.buffer = np.zeros((self.height, self.width, 3), dtype=np.uint8)\n",
    "    \n",
    "    def PutPixel(self, x, y, color):\n",
    "        \"\"\"\n",
    "        set the pixel color of (x,y)\n",
    "        Note that: the center of canvas is the origin of coordinate system\n",
    "        \"\"\"\n",
    "        # convert to the array coordinate system\n",
    "        x_ = self.center_x + x\n",
    "        y_ = self.center_y - y\n",
    "        \n",
    "        # convert floating-point color to integer if needed\n",
    "        if type(color[0]) is float or type(color[0]) is np.float32:\n",
    "            color = np.array(color).clip(0, 1.0)\n",
    "            color = np.array(color * 255, dtype=np.uint8)\n",
    "        else:\n",
    "            color = np.array(color, dtype=np.uint8).clip(0, 255)\n",
    "        \n",
    "        # set the pixel color\n",
    "        if x_ >= 0 and x_ < self.width and y_ >= 0 and y_ < self.height:\n",
    "            self.buffer[y_, x_] = color\n",
    "\n",
    "    def ArrayToCanvas(self, x_, y_):\n",
    "        \"\"\"convert column and row indices (x_, y_) to (x,y) on canvas\"\"\"\n",
    "        x = x_ - self.center_x\n",
    "        y = self.center_y - y_\n",
    "        return x, y\n",
    "            \n",
    "    def CanvasToViewport(self, x, y):\n",
    "        \"\"\"\n",
    "        determine which square on the viewport (the projection plane)\n",
    "        corresponds to this pixel.\n",
    "        in other words,\n",
    "        for each pixel (x,y) on the canvas, we can determine its\n",
    "        corresponding point on the viewport (Vx, Vy, d)\n",
    "        \"\"\"\n",
    "        return np.array((x*self.p_width/self.width, \n",
    "                        y*self.p_height/self.height, \n",
    "                        self.d))\n",
    "    \n",
    "    def RayTracing(self, scene):\n",
    "        O = np.array(self.center)\n",
    "        \n",
    "        self.Clear()\n",
    "        \n",
    "        # scan all pixels on canvas\n",
    "        for x_ in range(0, self.width):\n",
    "            for y_ in range(0, self.height):\n",
    "                x, y = self.ArrayToCanvas(x_, y_)\n",
    "                D = self.CanvasToViewport(x, y)\n",
    "                color = scene.TraceRay(O, D, self.t_max)\n",
    "                self.PutPixel(x, y, color)\n",
    "    \n",
    "        return self.buffer\n",
    "    "
   ]
  },
  {
   "cell_type": "markdown",
   "metadata": {},
   "source": [
    "## Render 3D Spheres with Ray Tracing"
   ]
  },
  {
   "cell_type": "code",
   "execution_count": 5,
   "metadata": {},
   "outputs": [
    {
     "data": {
      "text/plain": [
       "<matplotlib.image.AxesImage at 0x2e54529dba8>"
      ]
     },
     "execution_count": 5,
     "metadata": {},
     "output_type": "execute_result"
    },
    {
     "data": {
      "image/png": "[encoded data removed]",
      "text/plain": [
       "<Figure size 720x720 with 1 Axes>"
      ]
     },
     "metadata": {
      "needs_background": "light"
     },
     "output_type": "display_data"
    }
   ],
   "source": [
    "# create a camera\n",
    "camera = Camera(center=(0.0,0.0,0.0), width=64, height=64, \n",
    "                p_width=1, p_height=1, d=1, t_max=1000)\n",
    "\n",
    "\n",
    "# add some spheres to the scene\n",
    "sphere_scene = SpheresScene()\n",
    "sphere_scene.AddSphere(center=(0.0,-1.5,3.0), radius=1.0, color=(1.0,0.0,0.0) )\n",
    "sphere_scene.AddSphere(center=(2.0,2.0,10.0), radius=1.0, color=(0.0,1.0,0.0) )\n",
    "sphere_scene.AddSphere(center=(-2.0,0.0,4.0), radius=1.0, color=(0.0,0.0,1.0) )\n",
    "\n",
    "\n",
    "img = camera.RayTracing(sphere_scene)\n",
    "\n",
    "plt.figure(figsize=(10,10))\n",
    "plt.imshow(img)"
   ]
  },
  {
   "cell_type": "code",
   "execution_count": 6,
   "metadata": {},
   "outputs": [
    {
     "data": {
      "text/plain": [
       "<matplotlib.image.AxesImage at 0x2e5a06460f0>"
      ]
     },
     "execution_count": 6,
     "metadata": {},
     "output_type": "execute_result"
    },
    {
     "data": {
      "image/png": "[encoded data removed]",
      "text/plain": [
       "<Figure size 720x720 with 1 Axes>"
      ]
     },
     "metadata": {
      "needs_background": "light"
     },
     "output_type": "display_data"
    }
   ],
   "source": [
    "# create a camera\n",
    "camera = Camera(center=(0.0,0.0,0.0), width=512, height=512, \n",
    "                p_width=1, p_height=1, d=1, t_max=100)\n",
    "\n",
    "\n",
    "# add some spheres to the scene\n",
    "sphere_scene = SpheresScene()\n",
    "sphere_scene.AddSphere(center=(0.0,-1.5,3.5), radius=1.2, color=(0.6,0.6,0.6) )\n",
    "sphere_scene.AddSphere(center=(2.0,2.0,10.0), radius=2.0, color=(0.4,1.0,0.0) )\n",
    "sphere_scene.AddSphere(center=(-2.0,0.0,4.0), radius=1.6, color=(0.0,0.4,1.0) )\n",
    "\n",
    "\n",
    "img = camera.RayTracing(sphere_scene)\n",
    "\n",
    "plt.figure(figsize=(10,10))\n",
    "plt.imshow(img)"
   ]
  },
  {
   "cell_type": "code",
   "execution_count": null,
   "metadata": {},
   "outputs": [],
   "source": []
  },
  {
   "cell_type": "code",
   "execution_count": null,
   "metadata": {},
   "outputs": [],
   "source": []
  },
  {
   "cell_type": "code",
   "execution_count": null,
   "metadata": {},
   "outputs": [],
   "source": []
  },
  {
   "cell_type": "code",
   "execution_count": null,
   "metadata": {},
   "outputs": [],
   "source": []
  },
  {
   "cell_type": "code",
   "execution_count": null,
   "metadata": {},
   "outputs": [],
   "source": []
  },
  {
   "cell_type": "code",
   "execution_count": null,
   "metadata": {},
   "outputs": [],
   "source": []
  },
  {
   "cell_type": "code",
   "execution_count": null,
   "metadata": {},
   "outputs": [],
   "source": []
  },
  {
   "cell_type": "code",
   "execution_count": null,
   "metadata": {},
   "outputs": [],
   "source": []
  },
  {
   "cell_type": "code",
   "execution_count": null,
   "metadata": {},
   "outputs": [],
   "source": []
  },
  {
   "cell_type": "code",
   "execution_count": null,
   "metadata": {},
   "outputs": [],
   "source": []
  },
  {
   "cell_type": "code",
   "execution_count": null,
   "metadata": {},
   "outputs": [],
   "source": []
  },
  {
   "cell_type": "code",
   "execution_count": null,
   "metadata": {},
   "outputs": [],
   "source": []
  },
  {
   "cell_type": "code",
   "execution_count": null,
   "metadata": {},
   "outputs": [],
   "source": []
  },
  {
   "cell_type": "code",
   "execution_count": null,
   "metadata": {},
   "outputs": [],
   "source": []
  },
  {
   "cell_type": "code",
   "execution_count": null,
   "metadata": {},
   "outputs": [],
   "source": []
  },
  {
   "cell_type": "code",
   "execution_count": null,
   "metadata": {},
   "outputs": [],
   "source": []
  },
  {
   "cell_type": "code",
   "execution_count": null,
   "metadata": {},
   "outputs": [],
   "source": []
  }
 ],
 "metadata": {
  "kernelspec": {
   "display_name": "Python 3",
   "language": "python",
   "name": "python3"
  },
  "language_info": {
   "codemirror_mode": {
    "name": "ipython",
    "version": 3
   },
   "file_extension": ".py",
   "mimetype": "text/x-python",
   "name": "python",
   "nbconvert_exporter": "python",
   "pygments_lexer": "ipython3",
   "version": "3.6.7rc1"
  }
 },
 "nbformat": 4,
 "nbformat_minor": 4
}
