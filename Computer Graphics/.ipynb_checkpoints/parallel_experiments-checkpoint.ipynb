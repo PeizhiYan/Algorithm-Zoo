{
 "cells": [
  {
   "cell_type": "code",
   "execution_count": 23,
   "metadata": {},
   "outputs": [
    {
     "name": "stdout",
     "output_type": "stream",
     "text": [
      "2.177872657775879\n",
      "0.14951348304748535\n",
      "[[0. 0. 0. ... 0. 0. 0.]\n",
      " [0. 0. 0. ... 0. 0. 0.]\n",
      " [0. 0. 0. ... 0. 0. 0.]\n",
      " ...\n",
      " [0. 0. 0. ... 0. 0. 0.]\n",
      " [0. 0. 0. ... 0. 0. 0.]\n",
      " [0. 0. 0. ... 0. 0. 0.]]\n"
     ]
    }
   ],
   "source": [
    "import numpy as np\n",
    "import numba as nb\n",
    "\n",
    "from time import time\n",
    "\n",
    "X = np.zeros((100,100))\n",
    "\n",
    "l = np.array([0,1])\n",
    "\n",
    "@nb.njit(parallel=True)\n",
    "def nb_fill(X):\n",
    "    for i in range(len(X)):\n",
    "        for j in range(len(X[i])):\n",
    "            for k in l:\n",
    "                if i > k:\n",
    "                    continue\n",
    "                else:\n",
    "                    X[i, j] = np.sum(X@X)\n",
    "            \n",
    "def fill(X):\n",
    "    for i in range(len(X)):\n",
    "        for j in range(len(X[i])):\n",
    "            for k in l:\n",
    "                if i > k:\n",
    "                    continue\n",
    "                else:\n",
    "                    X[i, j] = np.sum(X@X)\n",
    "            \n",
    "\n",
    "\n",
    "dt = time()\n",
    "nb_fill(X)\n",
    "dt = time() - dt\n",
    "print(dt)\n",
    "\n",
    "dt = time()\n",
    "fill(X)\n",
    "dt = time() - dt\n",
    "print(dt)\n",
    "\n",
    "\n",
    "print(X)\n",
    "        "
   ]
  },
  {
   "cell_type": "code",
   "execution_count": null,
   "metadata": {},
   "outputs": [],
   "source": []
  },
  {
   "cell_type": "code",
   "execution_count": null,
   "metadata": {},
   "outputs": [],
   "source": []
  },
  {
   "cell_type": "code",
   "execution_count": null,
   "metadata": {},
   "outputs": [],
   "source": []
  }
 ],
 "metadata": {
  "kernelspec": {
   "display_name": "Python 3",
   "language": "python",
   "name": "python3"
  },
  "language_info": {
   "codemirror_mode": {
    "name": "ipython",
    "version": 3
   },
   "file_extension": ".py",
   "mimetype": "text/x-python",
   "name": "python",
   "nbconvert_exporter": "python",
   "pygments_lexer": "ipython3",
   "version": "3.6.7rc1"
  }
 },
 "nbformat": 4,
 "nbformat_minor": 4
}
