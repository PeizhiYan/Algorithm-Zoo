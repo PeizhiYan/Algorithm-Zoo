{
 "cells": [
  {
   "cell_type": "code",
   "execution_count": 1,
   "metadata": {},
   "outputs": [],
   "source": [
    "import matplotlib.pyplot as plt\n",
    "import numpy as np\n",
    "\n"
   ]
  },
  {
   "cell_type": "code",
   "execution_count": 48,
   "metadata": {},
   "outputs": [
    {
     "name": "stdout",
     "output_type": "stream",
     "text": [
      "512 384\n"
     ]
    },
    {
     "data": {
      "text/plain": [
       "<matplotlib.image.AxesImage at 0x1f5ad4dd4a8>"
      ]
     },
     "execution_count": 48,
     "metadata": {},
     "output_type": "execute_result"
    },
    {
     "data": {
      "image/png": "[encoded data removed]",
      "text/plain": [
       "<Figure size 576x576 with 1 Axes>"
      ]
     },
     "metadata": {
      "needs_background": "light"
     },
     "output_type": "display_data"
    }
   ],
   "source": [
    "class Canvas:\n",
    "    \"\"\"canvas class\"\"\"\n",
    "    \n",
    "    def __init__(self, width=256, height=256):\n",
    "        self.width = width\n",
    "        self.height = height\n",
    "        self.center_x = self.width // 2\n",
    "        self.center_y = self.height // 2\n",
    "        self.buffer = np.zeros((self.height, self.width, 3), dtype=np.uint8) # 8-bit depth\n",
    "        \n",
    "    def Clear(self):\n",
    "        \"\"\"clear the display buffer\"\"\"\n",
    "        self.buffer = np.zeros((self.height, self.width, 3), dtype=np.uint8)\n",
    "    \n",
    "    def PutPixel(self, x, y, color):\n",
    "        \"\"\"\n",
    "        set the pixel color of (x,y)\n",
    "        Note that: the center of canvas is the origin of coordinate system\n",
    "        \"\"\"\n",
    "        # convert to the array coordinate system\n",
    "        x_ = self.center_x + x\n",
    "        y_ = self.center_y - y\n",
    "        \n",
    "        # convert floating-point color to integer if needed\n",
    "        if type(color[0]) is float:\n",
    "            color = np.array(color).clip(0, 1.0)\n",
    "            color = np.array(color * 255, dtype=np.uint8)\n",
    "        else:\n",
    "            color = np.array(color, dtype=np.uint8).clip(0, 255)\n",
    "        \n",
    "        # set the pixel color\n",
    "        if x_ >= 0 and x_ < self.width and y_ >= 0 and y_ < self.height:\n",
    "            self.buffer[y_, x_] = color\n",
    "\n",
    "\n",
    "# Test the canvas            \n",
    "canvas = Canvas(width=1024, height=768)\n",
    "print(canvas.center_x, canvas.center_y)\n",
    "\n",
    "# Draw a rectangle\n",
    "canvas.Clear()\n",
    "for i in range(-200, 200):\n",
    "    for j in range(-200, 200):\n",
    "        canvas.PutPixel(x=i, y=j, color=(abs(0.005*i),abs(0.005*j),1.0))\n",
    "        \n",
    "\n",
    "plt.figure(figsize=(8,8))\n",
    "plt.imshow(canvas.buffer)\n"
   ]
  },
  {
   "cell_type": "code",
   "execution_count": null,
   "metadata": {},
   "outputs": [],
   "source": []
  },
  {
   "cell_type": "code",
   "execution_count": null,
   "metadata": {},
   "outputs": [],
   "source": []
  },
  {
   "cell_type": "code",
   "execution_count": null,
   "metadata": {},
   "outputs": [],
   "source": []
  },
  {
   "cell_type": "code",
   "execution_count": null,
   "metadata": {},
   "outputs": [],
   "source": []
  },
  {
   "cell_type": "code",
   "execution_count": null,
   "metadata": {},
   "outputs": [],
   "source": []
  },
  {
   "cell_type": "code",
   "execution_count": null,
   "metadata": {},
   "outputs": [],
   "source": []
  },
  {
   "cell_type": "code",
   "execution_count": null,
   "metadata": {},
   "outputs": [],
   "source": []
  },
  {
   "cell_type": "code",
   "execution_count": null,
   "metadata": {},
   "outputs": [],
   "source": []
  },
  {
   "cell_type": "code",
   "execution_count": null,
   "metadata": {},
   "outputs": [],
   "source": []
  },
  {
   "cell_type": "code",
   "execution_count": null,
   "metadata": {},
   "outputs": [],
   "source": []
  },
  {
   "cell_type": "code",
   "execution_count": null,
   "metadata": {},
   "outputs": [],
   "source": []
  },
  {
   "cell_type": "code",
   "execution_count": null,
   "metadata": {},
   "outputs": [],
   "source": []
  },
  {
   "cell_type": "code",
   "execution_count": null,
   "metadata": {},
   "outputs": [],
   "source": []
  },
  {
   "cell_type": "code",
   "execution_count": null,
   "metadata": {},
   "outputs": [],
   "source": []
  },
  {
   "cell_type": "code",
   "execution_count": null,
   "metadata": {},
   "outputs": [],
   "source": []
  },
  {
   "cell_type": "code",
   "execution_count": null,
   "metadata": {},
   "outputs": [],
   "source": []
  },
  {
   "cell_type": "code",
   "execution_count": null,
   "metadata": {},
   "outputs": [],
   "source": []
  },
  {
   "cell_type": "code",
   "execution_count": null,
   "metadata": {},
   "outputs": [],
   "source": []
  },
  {
   "cell_type": "code",
   "execution_count": null,
   "metadata": {},
   "outputs": [],
   "source": []
  }
 ],
 "metadata": {
  "kernelspec": {
   "display_name": "Python 3",
   "language": "python",
   "name": "python3"
  },
  "language_info": {
   "codemirror_mode": {
    "name": "ipython",
    "version": 3
   },
   "file_extension": ".py",
   "mimetype": "text/x-python",
   "name": "python",
   "nbconvert_exporter": "python",
   "pygments_lexer": "ipython3",
   "version": "3.6.7rc1"
  }
 },
 "nbformat": 4,
 "nbformat_minor": 4
}
